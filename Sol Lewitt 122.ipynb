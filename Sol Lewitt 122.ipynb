{
 "cells": [
  {
   "cell_type": "markdown",
   "metadata": {},
   "source": [
    "# Sol Lewitt 122"
   ]
  },
  {
   "cell_type": "code",
   "execution_count": 9,
   "metadata": {},
   "outputs": [],
   "source": [
    "# Boring but neccesary inputs\n",
    "import numpy as np\n",
    "from itertools import combinations \n",
    "import networkx as nx"
   ]
  },
  {
   "cell_type": "code",
   "execution_count": 2,
   "metadata": {},
   "outputs": [],
   "source": [
    "def create_cube(edge_list):\n",
    "    '''\n",
    "\n",
    "    function that given a list of indexes creates a cube representation\n",
    "    3x4 matrix with 1's (edges) on those indexes\n",
    "\n",
    "    input:\n",
    "            edge_list: List of indexes where an edge exists\n",
    "    output:\n",
    "            cube: 3x4 matrix representing the cube with edges specified in edge_list\n",
    "            \n",
    "    '''\n",
    "    cube = np.zeros(12,dtype=int)\n",
    "    for index in edge_list:\n",
    "        cube[index] = 1\n",
    "    cube = cube.reshape((3,4))\n",
    "\n",
    "    return cube"
   ]
  },
  {
   "cell_type": "code",
   "execution_count": 3,
   "metadata": {},
   "outputs": [],
   "source": [
    "def cubes_with_n_edges(n_edges):\n",
    "    '''\n",
    "    \n",
    "    This function returns a list of all possible cubes that have n_edges \n",
    "    (losts of repetitions though)\n",
    "    \n",
    "    input:\n",
    "            n_edges: Number of existing edges\n",
    "    output:\n",
    "            cube_list: List of all possible cubes with n_edges\n",
    "    '''\n",
    "    \n",
    "    comb = combinations(list(range(12)), n_edges)\n",
    "    cube_list = []\n",
    "    for item in comb:\n",
    "        cube_list.append(create_cube(item))\n",
    "        \n",
    "    return cube_list"
   ]
  },
  {
   "cell_type": "markdown",
   "metadata": {},
   "source": [
    "## Create a dictionary with information about all possible cube structures"
   ]
  },
  {
   "cell_type": "code",
   "execution_count": 4,
   "metadata": {},
   "outputs": [],
   "source": [
    "cubes_info = {}\n",
    "for n_edges in range(13):\n",
    "    cubes_info[n_edges]={}\n",
    "    cube_list = cubes_with_n_edges(n_edges)\n",
    "    cubes_info[n_edges]['full list'] = cube_list\n"
   ]
  },
  {
   "cell_type": "code",
   "execution_count": 14,
   "metadata": {},
   "outputs": [],
   "source": [
    "def matrix_to_graph(cube_matrix):\n",
    "    edge_vertex = { 1: ( 1, 2),\n",
    "                    2: ( 2, 3),\n",
    "                    3: ( 3, 4),\n",
    "                    4: ( 4, 1),\n",
    "                    5: ( 1, 5),\n",
    "                    6: ( 2, 6),\n",
    "                    7: ( 3, 7),\n",
    "                    8: ( 4, 8),\n",
    "                    9: ( 5, 6),\n",
    "                   10: ( 6, 7),\n",
    "                   11: ( 7, 8),\n",
    "                   12: ( 5, 8),      \n",
    "                    }\n",
    "    cube_graph  =  nx.Graph()\n",
    "    cube_graph.add_nodes_from(list(range(1,13)))\n",
    "    cube_vector = cube_matrix.reshape(12)\n",
    "    \n",
    "    edges_to_add = []\n",
    "    for item in range(12):\n",
    "        if cube_vector[item]==1:\n",
    "            edges_to_add.append(edge_vertex[item+1])\n",
    "    cube_graph.add_edges_from(edges_to_add)\n",
    "            \n",
    "    return cube_graph"
   ]
  },
  {
   "cell_type": "code",
   "execution_count": null,
   "metadata": {},
   "outputs": [],
   "source": [
    "'''\n",
    "Loop over the graphs and eliminate not connected ones\n",
    "\n",
    "nx.is_connected(G)\n",
    "'''"
   ]
  },
  {
   "cell_type": "raw",
   "metadata": {},
   "source": []
  },
  {
   "cell_type": "code",
   "execution_count": null,
   "metadata": {},
   "outputs": [],
   "source": [
    "'''\n",
    "\n",
    "So this works with a lot of duplication\n",
    "\n",
    "To do list:\n",
    "\n",
    "* Function to generate all rigid transformations\n",
    "\n",
    "* Function to transfor cube into graph to check for connectedness\n",
    "\n",
    "* Function to to check if structure is 3D\n",
    "\n",
    "* Optional Function to generate an actual picture of the cube possibly using povray\n",
    "\n",
    "'''\n"
   ]
  }
 ],
 "metadata": {
  "kernelspec": {
   "display_name": "Python 3",
   "language": "python",
   "name": "python3"
  },
  "language_info": {
   "codemirror_mode": {
    "name": "ipython",
    "version": 3
   },
   "file_extension": ".py",
   "mimetype": "text/x-python",
   "name": "python",
   "nbconvert_exporter": "python",
   "pygments_lexer": "ipython3",
   "version": "3.7.6"
  }
 },
 "nbformat": 4,
 "nbformat_minor": 2
}
