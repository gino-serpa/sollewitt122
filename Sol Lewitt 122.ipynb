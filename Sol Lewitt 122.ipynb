{
 "cells": [
  {
   "cell_type": "markdown",
   "metadata": {},
   "source": [
    "# Sol Lewitt 122"
   ]
  },
  {
   "cell_type": "code",
   "execution_count": 1,
   "metadata": {},
   "outputs": [],
   "source": [
    "# Boring but neccesary inputs\n",
    "import numpy as np\n",
    "from itertools import combinations \n",
    "import networkx as nx"
   ]
  },
  {
   "cell_type": "code",
   "execution_count": 2,
   "metadata": {},
   "outputs": [],
   "source": [
    "def create_cube(edge_list):\n",
    "    '''\n",
    "\n",
    "    function that given a list of indexes creates a cube representation\n",
    "    3x4 matrix with 1's (edges) on those indexes\n",
    "\n",
    "    input:\n",
    "            edge_list: List of indexes where an edge exists (edges labelled from 1 to 12)\n",
    "    output:\n",
    "            cube: 3x4 matrix representing the cube with edges specified in edge_list\n",
    "            \n",
    "    '''\n",
    "    cube = np.zeros(12,dtype=int)\n",
    "    for index in edge_list:\n",
    "        cube[index] = 1\n",
    "    cube = cube.reshape((3,4))\n",
    "\n",
    "    return cube"
   ]
  },
  {
   "cell_type": "code",
   "execution_count": 3,
   "metadata": {},
   "outputs": [],
   "source": [
    "def cubes_with_n_edges(n_edges):\n",
    "    '''\n",
    "    \n",
    "    This function returns a list of all possible cubes that have n_edges \n",
    "    (losts of repetitions though)\n",
    "    \n",
    "    input:\n",
    "            n_edges: Number of existing edges\n",
    "    output:\n",
    "            cube_list: List of all possible cubes with n_edges\n",
    "    '''\n",
    "    \n",
    "    comb = combinations(list(range(12)), n_edges)\n",
    "    cube_list = []\n",
    "    for item in comb:\n",
    "        cube_list.append(create_cube(item))\n",
    "        \n",
    "    return cube_list"
   ]
  },
  {
   "cell_type": "code",
   "execution_count": 5,
   "metadata": {},
   "outputs": [],
   "source": [
    "def matrix_to_graph(cube_matrix):\n",
    "    edge_vertex = { 0: ( 0, 1),\n",
    "                    1: ( 1, 2),\n",
    "                    2: ( 2, 3),\n",
    "                    3: ( 3, 0),\n",
    "                    4: ( 0, 4),\n",
    "                    5: ( 1, 5),\n",
    "                    6: ( 2, 6),\n",
    "                    7: ( 3, 7),\n",
    "                    8: ( 4, 5),\n",
    "                    9: ( 5, 6),\n",
    "                   10: ( 6, 7),\n",
    "                   11: ( 4, 7),      \n",
    "                    }\n",
    "    cube_graph  =  nx.Graph()\n",
    "\n",
    "    cube_vector = cube_matrix.reshape(12)\n",
    "    \n",
    "    edges_to_add = []\n",
    "    nodes_to_add = []\n",
    "    for item in range(12):\n",
    "        if cube_vector[item]==1:\n",
    "            edges_to_add.append(edge_vertex[item])\n",
    "            nodes_to_add.append(edge_vertex[item][0])\n",
    "            nodes_to_add.append(edge_vertex[item][1])\n",
    "    \n",
    "    nodes_to_add = list(set(nodes_to_add))\n",
    "    cube_graph.add_nodes_from(nodes_to_add)\n",
    "    cube_graph.add_edges_from(edges_to_add)\n",
    "            \n",
    "    return cube_graph"
   ]
  },
  {
   "cell_type": "markdown",
   "metadata": {},
   "source": [
    "## Create a dictionary with information about all possible cube structures"
   ]
  },
  {
   "cell_type": "code",
   "execution_count": 33,
   "metadata": {},
   "outputs": [],
   "source": [
    "cubes_info = {}\n",
    "for n_edges in range(3,12):\n",
    "    cubes_info[n_edges]={}\n",
    "    \n",
    "    cube_list = cubes_with_n_edges(n_edges)\n",
    "    cubes_info[n_edges]['full list'] = cube_list\n",
    "    \n",
    "    cube_list_connected = [ item for item in cube_list if nx.is_connected(matrix_to_graph(item)) ]\n",
    "    cubes_info[n_edges]['connected list'] = cube_list_connected"
   ]
  },
  {
   "cell_type": "code",
   "execution_count": 36,
   "metadata": {},
   "outputs": [
    {
     "name": "stdout",
     "output_type": "stream",
     "text": [
      "Edges:  3\n",
      "Total cubes:  220\n",
      "Connected cubes:  56\n",
      "\n",
      "Total connected:  56\n",
      "Edges:  4\n",
      "Total cubes:  495\n",
      "Connected cubes:  126\n",
      "\n",
      "Total connected:  182\n",
      "Edges:  5\n",
      "Total cubes:  792\n",
      "Connected cubes:  276\n",
      "\n",
      "Total connected:  458\n",
      "Edges:  6\n",
      "Total cubes:  924\n",
      "Connected cubes:  500\n",
      "\n",
      "Total connected:  958\n",
      "Edges:  7\n",
      "Total cubes:  792\n",
      "Connected cubes:  660\n",
      "\n",
      "Total connected:  1618\n",
      "Edges:  8\n",
      "Total cubes:  495\n",
      "Connected cubes:  480\n",
      "\n",
      "Total connected:  2098\n",
      "Edges:  9\n",
      "Total cubes:  220\n",
      "Connected cubes:  220\n",
      "\n",
      "Total connected:  2318\n",
      "Edges:  10\n",
      "Total cubes:  66\n",
      "Connected cubes:  66\n",
      "\n",
      "Total connected:  2384\n",
      "Edges:  11\n",
      "Total cubes:  12\n",
      "Connected cubes:  12\n",
      "\n",
      "Total connected:  2396\n"
     ]
    }
   ],
   "source": [
    "total_connected = 0\n",
    "for n_edges in cubes_info:\n",
    "    print ('Edges: ', n_edges)\n",
    "    n_cubes = len(cubes_info[n_edges]['full list'])\n",
    "    print('Total cubes: ',n_cubes)\n",
    "    n_cubes_connected = len(cubes_info[n_edges]['connected list'])\n",
    "    total_connected += n_cubes_connected\n",
    "    print('Connected cubes: ',n_cubes_connected)\n",
    "    print('\\nTotal connected: ', total_connected)"
   ]
  },
  {
   "cell_type": "code",
   "execution_count": 21,
   "metadata": {},
   "outputs": [
    {
     "data": {
      "text/plain": [
       "'\\n\\nSo this works with a lot of duplication\\n\\nTo do list:\\n\\n* Function to generate all rigid transformations\\n\\n* Function to to check if structure is 3D\\n\\n* Optional Function to generate an actual picture of the cube possibly using povray\\n\\n'"
      ]
     },
     "execution_count": 21,
     "metadata": {},
     "output_type": "execute_result"
    }
   ],
   "source": [
    "'''\n",
    "\n",
    "So this works with a lot of duplication\n",
    "\n",
    "To do list:\n",
    "\n",
    "* Function to generate all rigid transformations\n",
    "\n",
    "* Function to to check if structure is 3D (not sure what's an elegant way to do this)\n",
    "\n",
    "* Optional Function to generate an actual picture of the cube possibly using povray\n",
    "\n",
    "'''\n"
   ]
  },
  {
   "cell_type": "code",
   "execution_count": null,
   "metadata": {},
   "outputs": [],
   "source": []
  }
 ],
 "metadata": {
  "kernelspec": {
   "display_name": "Python 3",
   "language": "python",
   "name": "python3"
  },
  "language_info": {
   "codemirror_mode": {
    "name": "ipython",
    "version": 3
   },
   "file_extension": ".py",
   "mimetype": "text/x-python",
   "name": "python",
   "nbconvert_exporter": "python",
   "pygments_lexer": "ipython3",
   "version": "3.5.2"
  }
 },
 "nbformat": 4,
 "nbformat_minor": 2
}
