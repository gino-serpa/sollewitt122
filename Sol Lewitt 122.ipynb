{
 "cells": [
  {
   "cell_type": "markdown",
   "metadata": {},
   "source": [
    "# Sol Lewitt 122"
   ]
  },
  {
   "cell_type": "code",
   "execution_count": 1,
   "metadata": {},
   "outputs": [],
   "source": [
    "# Boring but neccesary inputs\n",
    "import numpy as np\n",
    "from itertools import combinations "
   ]
  },
  {
   "cell_type": "code",
   "execution_count": 2,
   "metadata": {},
   "outputs": [],
   "source": [
    "def create_cube(edge_list):\n",
    "    '''\n",
    "\n",
    "    function that given a list of indexes creates a cube representation\n",
    "    3x4 matrix with 1's (edges) on those indexes\n",
    "\n",
    "    input:\n",
    "            edge_list: List of indexes where an edge exists\n",
    "    output:\n",
    "            cube: 3x4 matrix representing the cube with edges specified in edge_list\n",
    "            \n",
    "    '''\n",
    "    cube = np.zeros(12,dtype=int)\n",
    "    for index in edge_list:\n",
    "        cube[index] = 1\n",
    "    cube = cube.reshape((3,4))\n",
    "\n",
    "    return cube"
   ]
  },
  {
   "cell_type": "code",
   "execution_count": 3,
   "metadata": {},
   "outputs": [],
   "source": [
    "def cubes_with_n_edges(n_edges):\n",
    "    '''\n",
    "    \n",
    "    This function returns a list of all possible cubes that have n_edges \n",
    "    (losts of repetitions though)\n",
    "    \n",
    "    input:\n",
    "            n_edges: Number of existing edges\n",
    "    output:\n",
    "            cube_list: List of all possible cubes with n_edges\n",
    "    '''\n",
    "    \n",
    "    comb = combinations(list(range(12)), n_edges)\n",
    "    cube_list = []\n",
    "    for item in comb:\n",
    "        cube_list.append(create_cube(item))\n",
    "        \n",
    "    return cube_list"
   ]
  },
  {
   "cell_type": "markdown",
   "metadata": {},
   "source": [
    "## Create a dictionary with information about all possible cube structures"
   ]
  },
  {
   "cell_type": "code",
   "execution_count": 4,
   "metadata": {},
   "outputs": [],
   "source": [
    "cubes_info = {}\n",
    "for n_edges in range(13):\n",
    "    cubes_info[n_edges]={}\n",
    "    cube_list = cubes_with_n_edges(n_edges)\n",
    "    cubes_info[n_edges]['full list'] = cube_list\n"
   ]
  },
  {
   "cell_type": "code",
   "execution_count": 5,
   "metadata": {},
   "outputs": [
    {
     "data": {
      "text/plain": [
       "13"
      ]
     },
     "execution_count": 5,
     "metadata": {},
     "output_type": "execute_result"
    }
   ],
   "source": [
    "len(cubes_info)"
   ]
  },
  {
   "cell_type": "code",
   "execution_count": 6,
   "metadata": {},
   "outputs": [
    {
     "name": "stdout",
     "output_type": "stream",
     "text": [
      "dict_keys([0, 1, 2, 3, 4, 5, 6, 7, 8, 9, 10, 11, 12])\n"
     ]
    }
   ],
   "source": [
    "print(cubes_info.keys())"
   ]
  },
  {
   "cell_type": "code",
   "execution_count": 7,
   "metadata": {},
   "outputs": [
    {
     "name": "stdout",
     "output_type": "stream",
     "text": [
      "{'full list': [array([[1, 1, 0, 0],\n",
      "       [0, 0, 0, 0],\n",
      "       [0, 0, 0, 0]]), array([[1, 0, 1, 0],\n",
      "       [0, 0, 0, 0],\n",
      "       [0, 0, 0, 0]]), array([[1, 0, 0, 1],\n",
      "       [0, 0, 0, 0],\n",
      "       [0, 0, 0, 0]]), array([[1, 0, 0, 0],\n",
      "       [1, 0, 0, 0],\n",
      "       [0, 0, 0, 0]]), array([[1, 0, 0, 0],\n",
      "       [0, 1, 0, 0],\n",
      "       [0, 0, 0, 0]]), array([[1, 0, 0, 0],\n",
      "       [0, 0, 1, 0],\n",
      "       [0, 0, 0, 0]]), array([[1, 0, 0, 0],\n",
      "       [0, 0, 0, 1],\n",
      "       [0, 0, 0, 0]]), array([[1, 0, 0, 0],\n",
      "       [0, 0, 0, 0],\n",
      "       [1, 0, 0, 0]]), array([[1, 0, 0, 0],\n",
      "       [0, 0, 0, 0],\n",
      "       [0, 1, 0, 0]]), array([[1, 0, 0, 0],\n",
      "       [0, 0, 0, 0],\n",
      "       [0, 0, 1, 0]]), array([[1, 0, 0, 0],\n",
      "       [0, 0, 0, 0],\n",
      "       [0, 0, 0, 1]]), array([[0, 1, 1, 0],\n",
      "       [0, 0, 0, 0],\n",
      "       [0, 0, 0, 0]]), array([[0, 1, 0, 1],\n",
      "       [0, 0, 0, 0],\n",
      "       [0, 0, 0, 0]]), array([[0, 1, 0, 0],\n",
      "       [1, 0, 0, 0],\n",
      "       [0, 0, 0, 0]]), array([[0, 1, 0, 0],\n",
      "       [0, 1, 0, 0],\n",
      "       [0, 0, 0, 0]]), array([[0, 1, 0, 0],\n",
      "       [0, 0, 1, 0],\n",
      "       [0, 0, 0, 0]]), array([[0, 1, 0, 0],\n",
      "       [0, 0, 0, 1],\n",
      "       [0, 0, 0, 0]]), array([[0, 1, 0, 0],\n",
      "       [0, 0, 0, 0],\n",
      "       [1, 0, 0, 0]]), array([[0, 1, 0, 0],\n",
      "       [0, 0, 0, 0],\n",
      "       [0, 1, 0, 0]]), array([[0, 1, 0, 0],\n",
      "       [0, 0, 0, 0],\n",
      "       [0, 0, 1, 0]]), array([[0, 1, 0, 0],\n",
      "       [0, 0, 0, 0],\n",
      "       [0, 0, 0, 1]]), array([[0, 0, 1, 1],\n",
      "       [0, 0, 0, 0],\n",
      "       [0, 0, 0, 0]]), array([[0, 0, 1, 0],\n",
      "       [1, 0, 0, 0],\n",
      "       [0, 0, 0, 0]]), array([[0, 0, 1, 0],\n",
      "       [0, 1, 0, 0],\n",
      "       [0, 0, 0, 0]]), array([[0, 0, 1, 0],\n",
      "       [0, 0, 1, 0],\n",
      "       [0, 0, 0, 0]]), array([[0, 0, 1, 0],\n",
      "       [0, 0, 0, 1],\n",
      "       [0, 0, 0, 0]]), array([[0, 0, 1, 0],\n",
      "       [0, 0, 0, 0],\n",
      "       [1, 0, 0, 0]]), array([[0, 0, 1, 0],\n",
      "       [0, 0, 0, 0],\n",
      "       [0, 1, 0, 0]]), array([[0, 0, 1, 0],\n",
      "       [0, 0, 0, 0],\n",
      "       [0, 0, 1, 0]]), array([[0, 0, 1, 0],\n",
      "       [0, 0, 0, 0],\n",
      "       [0, 0, 0, 1]]), array([[0, 0, 0, 1],\n",
      "       [1, 0, 0, 0],\n",
      "       [0, 0, 0, 0]]), array([[0, 0, 0, 1],\n",
      "       [0, 1, 0, 0],\n",
      "       [0, 0, 0, 0]]), array([[0, 0, 0, 1],\n",
      "       [0, 0, 1, 0],\n",
      "       [0, 0, 0, 0]]), array([[0, 0, 0, 1],\n",
      "       [0, 0, 0, 1],\n",
      "       [0, 0, 0, 0]]), array([[0, 0, 0, 1],\n",
      "       [0, 0, 0, 0],\n",
      "       [1, 0, 0, 0]]), array([[0, 0, 0, 1],\n",
      "       [0, 0, 0, 0],\n",
      "       [0, 1, 0, 0]]), array([[0, 0, 0, 1],\n",
      "       [0, 0, 0, 0],\n",
      "       [0, 0, 1, 0]]), array([[0, 0, 0, 1],\n",
      "       [0, 0, 0, 0],\n",
      "       [0, 0, 0, 1]]), array([[0, 0, 0, 0],\n",
      "       [1, 1, 0, 0],\n",
      "       [0, 0, 0, 0]]), array([[0, 0, 0, 0],\n",
      "       [1, 0, 1, 0],\n",
      "       [0, 0, 0, 0]]), array([[0, 0, 0, 0],\n",
      "       [1, 0, 0, 1],\n",
      "       [0, 0, 0, 0]]), array([[0, 0, 0, 0],\n",
      "       [1, 0, 0, 0],\n",
      "       [1, 0, 0, 0]]), array([[0, 0, 0, 0],\n",
      "       [1, 0, 0, 0],\n",
      "       [0, 1, 0, 0]]), array([[0, 0, 0, 0],\n",
      "       [1, 0, 0, 0],\n",
      "       [0, 0, 1, 0]]), array([[0, 0, 0, 0],\n",
      "       [1, 0, 0, 0],\n",
      "       [0, 0, 0, 1]]), array([[0, 0, 0, 0],\n",
      "       [0, 1, 1, 0],\n",
      "       [0, 0, 0, 0]]), array([[0, 0, 0, 0],\n",
      "       [0, 1, 0, 1],\n",
      "       [0, 0, 0, 0]]), array([[0, 0, 0, 0],\n",
      "       [0, 1, 0, 0],\n",
      "       [1, 0, 0, 0]]), array([[0, 0, 0, 0],\n",
      "       [0, 1, 0, 0],\n",
      "       [0, 1, 0, 0]]), array([[0, 0, 0, 0],\n",
      "       [0, 1, 0, 0],\n",
      "       [0, 0, 1, 0]]), array([[0, 0, 0, 0],\n",
      "       [0, 1, 0, 0],\n",
      "       [0, 0, 0, 1]]), array([[0, 0, 0, 0],\n",
      "       [0, 0, 1, 1],\n",
      "       [0, 0, 0, 0]]), array([[0, 0, 0, 0],\n",
      "       [0, 0, 1, 0],\n",
      "       [1, 0, 0, 0]]), array([[0, 0, 0, 0],\n",
      "       [0, 0, 1, 0],\n",
      "       [0, 1, 0, 0]]), array([[0, 0, 0, 0],\n",
      "       [0, 0, 1, 0],\n",
      "       [0, 0, 1, 0]]), array([[0, 0, 0, 0],\n",
      "       [0, 0, 1, 0],\n",
      "       [0, 0, 0, 1]]), array([[0, 0, 0, 0],\n",
      "       [0, 0, 0, 1],\n",
      "       [1, 0, 0, 0]]), array([[0, 0, 0, 0],\n",
      "       [0, 0, 0, 1],\n",
      "       [0, 1, 0, 0]]), array([[0, 0, 0, 0],\n",
      "       [0, 0, 0, 1],\n",
      "       [0, 0, 1, 0]]), array([[0, 0, 0, 0],\n",
      "       [0, 0, 0, 1],\n",
      "       [0, 0, 0, 1]]), array([[0, 0, 0, 0],\n",
      "       [0, 0, 0, 0],\n",
      "       [1, 1, 0, 0]]), array([[0, 0, 0, 0],\n",
      "       [0, 0, 0, 0],\n",
      "       [1, 0, 1, 0]]), array([[0, 0, 0, 0],\n",
      "       [0, 0, 0, 0],\n",
      "       [1, 0, 0, 1]]), array([[0, 0, 0, 0],\n",
      "       [0, 0, 0, 0],\n",
      "       [0, 1, 1, 0]]), array([[0, 0, 0, 0],\n",
      "       [0, 0, 0, 0],\n",
      "       [0, 1, 0, 1]]), array([[0, 0, 0, 0],\n",
      "       [0, 0, 0, 0],\n",
      "       [0, 0, 1, 1]])]}\n"
     ]
    }
   ],
   "source": [
    "print(cubes_info[2])"
   ]
  },
  {
   "cell_type": "code",
   "execution_count": 8,
   "metadata": {},
   "outputs": [
    {
     "name": "stdout",
     "output_type": "stream",
     "text": [
      "Number of edges:  12 ,   Number of cubes:  1 \n",
      "\n",
      "[[1 1 1 1]\n",
      " [1 1 1 1]\n",
      " [1 1 1 1]] \n",
      "\n"
     ]
    }
   ],
   "source": [
    "    print ('Number of edges: ', n_edges,',   Number of cubes: ', len(cube_list), '\\n')\n",
    "    for item in cube_list:\n",
    "        print(item, '\\n')"
   ]
  },
  {
   "cell_type": "code",
   "execution_count": null,
   "metadata": {},
   "outputs": [],
   "source": [
    "'''\n",
    "\n",
    "So this works with a lot of duplication\n",
    "\n",
    "To do list:\n",
    "\n",
    "* Function to generate all rigid transformations\n",
    "\n",
    "* Function to transfor cube into graph to check for connectedness\n",
    "\n",
    "* Function to to check if structure is 3D\n",
    "\n",
    "* Optional Function to generate an actual picture of the cube possibly using povray\n",
    "\n",
    "'''\n"
   ]
  }
 ],
 "metadata": {
  "kernelspec": {
   "display_name": "Python 3",
   "language": "python",
   "name": "python3"
  },
  "language_info": {
   "codemirror_mode": {
    "name": "ipython",
    "version": 3
   },
   "file_extension": ".py",
   "mimetype": "text/x-python",
   "name": "python",
   "nbconvert_exporter": "python",
   "pygments_lexer": "ipython3",
   "version": "3.7.6"
  }
 },
 "nbformat": 4,
 "nbformat_minor": 2
}
