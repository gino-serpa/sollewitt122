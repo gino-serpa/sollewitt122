{
 "cells": [
  {
   "cell_type": "code",
   "execution_count": 1,
   "metadata": {},
   "outputs": [],
   "source": [
    "from vapory import * "
   ]
  },
  {
   "cell_type": "markdown",
   "metadata": {},
   "source": [
    "# Physical location of the vertices"
   ]
  },
  {
   "cell_type": "code",
   "execution_count": 2,
   "metadata": {},
   "outputs": [],
   "source": [
    "# Origin at the center of a cube of side 2\n",
    "vertex = {0:[-1,-1, 1], 1:[-1, 1, 1], 2:[ 1, 1, 1], 3:[ 1,-1, 1],\n",
    "          4:[-1,-1,-1], 5:[-1, 1,-1], 6:[ 1, 1,-1], 7:[ 1,-1,-1]}"
   ]
  },
  {
   "cell_type": "markdown",
   "metadata": {},
   "source": [
    "# Helper functions"
   ]
  },
  {
   "cell_type": "code",
   "execution_count": 3,
   "metadata": {},
   "outputs": [],
   "source": [
    "def create_povray_edge(v1,v2):\n",
    "    '''\n",
    "    Creates a povray edge\n",
    "    '''\n",
    "    edge = Cylinder(v1, v2, 0.075, Texture( Pigment( 'color', [1/2, 1/2, 1/2] )) )\n",
    "    \n",
    "    return edge"
   ]
  },
  {
   "cell_type": "code",
   "execution_count": 4,
   "metadata": {},
   "outputs": [],
   "source": [
    "def create_povray_cube(edges):\n",
    "    '''\n",
    "    Creates a povray cube structure given the edges\n",
    "    '''\n",
    "    cube = []\n",
    "    for edge in edges:\n",
    "    \n",
    "        vi = vertex[edge[0]]\n",
    "        vf = vertex[edge[1]]\n",
    "        cube.append(create_povray_edge(vi,vf))\n",
    "    \n",
    "    return cube"
   ]
  },
  {
   "cell_type": "code",
   "execution_count": 5,
   "metadata": {},
   "outputs": [],
   "source": [
    "def create_povray_ref_frame():\n",
    "    \n",
    "    x_axis = Cylinder([0, 0, 0], [3/4,   0,   0], 0.03, Texture( Pigment( 'color', [1, 0, 0] )) )\n",
    "    y_axis = Cylinder([0, 0, 0], [  0, 3/4,   0], 0.03, Texture( Pigment( 'color', [0, 1, 0] )) )\n",
    "    z_axis = Cylinder([0, 0, 0], [  0,   0, 3/4], 0.03, Texture( Pigment( 'color', [0, 0, 1] )) )\n",
    "    \n",
    "    return [x_axis, y_axis, z_axis]"
   ]
  },
  {
   "cell_type": "markdown",
   "metadata": {},
   "source": [
    "# Define camera and light sources "
   ]
  },
  {
   "cell_type": "code",
   "execution_count": 6,
   "metadata": {},
   "outputs": [],
   "source": [
    "# This could be much more sophisticated\n",
    "camera = Camera( 'location', [4, 5, 6], 'look_at', [0, 0, 0] )\n",
    "light_1 = LightSource( [2, 4, 3], 'color', [1, 1, 1] )\n",
    "light_2 = LightSource( [1, 1, 4], 'color', [1, 1, 1] )"
   ]
  },
  {
   "cell_type": "markdown",
   "metadata": {},
   "source": [
    "# Create a reference frame for . . . reference (x,y,z) = (R, G ,B) "
   ]
  },
  {
   "cell_type": "code",
   "execution_count": 7,
   "metadata": {},
   "outputs": [],
   "source": [
    "# Note that for some weird reason POVRAY does not follow the right hand rule\n",
    "ref_frame = create_povray_ref_frame()"
   ]
  },
  {
   "cell_type": "markdown",
   "metadata": {},
   "source": [
    "# Create a cube "
   ]
  },
  {
   "cell_type": "code",
   "execution_count": 8,
   "metadata": {},
   "outputs": [],
   "source": [
    "edges = [(0,1), (1,2), (2,3), (3,0), (0,4), (1, 5), (2,6), (3,7), (4,5), (5,6), (6,7), (7,4) ]\n",
    "cube  = create_povray_cube(edges)\n"
   ]
  },
  {
   "cell_type": "markdown",
   "metadata": {},
   "source": [
    "# Put the scene together"
   ]
  },
  {
   "cell_type": "code",
   "execution_count": 9,
   "metadata": {},
   "outputs": [],
   "source": [
    "objects = [light_1, light_2]\n",
    "\n",
    "for axis in ref_frame:\n",
    "    objects.append(axis)\n",
    "for item in cube:\n",
    "    objects.append(item)\n",
    "    \n",
    "scene = Scene( camera, objects = objects )"
   ]
  },
  {
   "cell_type": "markdown",
   "metadata": {},
   "source": [
    "# Render the scene"
   ]
  },
  {
   "cell_type": "code",
   "execution_count": 10,
   "metadata": {},
   "outputs": [],
   "source": [
    "scene.render(\"cube.png\", width=1200, height=900)"
   ]
  }
 ],
 "metadata": {
  "kernelspec": {
   "display_name": "Python 3",
   "language": "python",
   "name": "python3"
  },
  "language_info": {
   "codemirror_mode": {
    "name": "ipython",
    "version": 3
   },
   "file_extension": ".py",
   "mimetype": "text/x-python",
   "name": "python",
   "nbconvert_exporter": "python",
   "pygments_lexer": "ipython3",
   "version": "3.5.2"
  }
 },
 "nbformat": 4,
 "nbformat_minor": 2
}
