{
 "cells": [
  {
   "cell_type": "code",
   "execution_count": 1,
   "metadata": {},
   "outputs": [],
   "source": [
    "from vapory import *\n",
    "\n",
    "vertex = {0:[-1,-1, 1],\n",
    "          1:[-1, 1, 1],\n",
    "          2:[ 1, 1, 1],\n",
    "          3:[ 1,-1, 1],\n",
    "          4:[-1,-1,-1],\n",
    "          5:[-1, 1,-1],\n",
    "          6:[ 1, 1,-1],\n",
    "          7:[ 1,-1,-1]}"
   ]
  },
  {
   "cell_type": "code",
   "execution_count": null,
   "metadata": {},
   "outputs": [],
   "source": [
    "def create_povray_edge(v1,v2):\n",
    "    edge = Cylinder(v1, v2, 0.1, Texture( Pigment( 'color', [1, 0, 1] )) )\n",
    "    return edge"
   ]
  },
  {
   "cell_type": "code",
   "execution_count": 2,
   "metadata": {},
   "outputs": [],
   "source": [
    "def create_povray_cube():\n",
    "\n",
    "    \n",
    "    edge_0 = Cylinder(vertex[0], vertex[1], 0.1, Texture( Pigment( 'color', [1, 0, 1] )) )\n",
    "    edge_1 = Cylinder(vertex[1], vertex[2], 0.1, Texture( Pigment( 'color', [1, 0, 1] )) )\n",
    "    edge_2 = Cylinder(vertex[2], vertex[3], 0.1, Texture( Pigment( 'color', [1, 0, 1] )) )\n",
    "    edge_3 = Cylinder(vertex[3], vertex[0], 0.1, Texture( Pigment( 'color', [1, 0, 1] )) )\n",
    "    \n",
    "    edge_4 = Cylinder(vertex[0], vertex[4], 0.1, Texture( Pigment( 'color', [1, 0, 1] )) )\n",
    "    edge_5 = Cylinder(vertex[1], vertex[5], 0.1, Texture( Pigment( 'color', [1, 0, 1] )) )\n",
    "    edge_6 = Cylinder(vertex[2], vertex[6], 0.1, Texture( Pigment( 'color', [1, 0, 1] )) )\n",
    "    edge_7 = Cylinder(vertex[3], vertex[7], 0.1, Texture( Pigment( 'color', [1, 0, 1] )) )\n",
    "    \n",
    "    edge_8 = Cylinder(vertex[4], vertex[5], 0.1, Texture( Pigment( 'color', [1, 0, 1] )) )\n",
    "    edge_9 = Cylinder(vertex[5], vertex[6], 0.1, Texture( Pigment( 'color', [1, 0, 1] )) )\n",
    "    edge_10 = Cylinder(vertex[6], vertex[7], 0.1, Texture( Pigment( 'color', [1, 0, 1] )) )\n",
    "    edge_11 = Cylinder(vertex[7], vertex[4], 0.1, Texture( Pigment( 'color', [1, 0, 1] )) )\n",
    "    \n",
    "    cube = [edge_0, edge_1, edge_2, edge_3,\n",
    "            edge_4, edge_5, edge_6, edge_7, \n",
    "            edge_8, edge_9, edge_10, edge_11]\n",
    "    \n",
    "    return cube"
   ]
  },
  {
   "cell_type": "code",
   "execution_count": 3,
   "metadata": {},
   "outputs": [],
   "source": [
    "camera = Camera( 'location', [4, 4, 4], 'look_at', [0, 0, 0] )\n",
    "light_1 = LightSource( [2, 4, 3], 'color', [1, 1, 1] )\n",
    "light_2 = LightSource( [1, 1, 4], 'color', [1, 1, 1] )"
   ]
  },
  {
   "cell_type": "code",
   "execution_count": 4,
   "metadata": {},
   "outputs": [],
   "source": [
    "cube = create_povray_cube()\n",
    "objects = [light_1, light_2]\n",
    "for item in cube:\n",
    "    objects.append(item)"
   ]
  },
  {
   "cell_type": "code",
   "execution_count": 5,
   "metadata": {},
   "outputs": [],
   "source": [
    "#sphere = Sphere( [0, 1, 2], 2, Texture( Pigment( 'color', [1, 0, 1] )))\n",
    "\n",
    "scene = Scene( camera, objects = objects )\n",
    "scene.render(\"cube.png\", width=1200, height=900)"
   ]
  }
 ],
 "metadata": {
  "kernelspec": {
   "display_name": "Python 3",
   "language": "python",
   "name": "python3"
  },
  "language_info": {
   "codemirror_mode": {
    "name": "ipython",
    "version": 3
   },
   "file_extension": ".py",
   "mimetype": "text/x-python",
   "name": "python",
   "nbconvert_exporter": "python",
   "pygments_lexer": "ipython3",
   "version": "3.5.2"
  }
 },
 "nbformat": 4,
 "nbformat_minor": 2
}
